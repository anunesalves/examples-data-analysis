{
 "cells": [
  {
   "cell_type": "markdown",
   "id": "d3cfa500",
   "metadata": {},
   "source": [
    "# 1 - Introduction to Python\n"
   ]
  },
  {
   "cell_type": "markdown",
   "id": "2209077a",
   "metadata": {},
   "source": [
    "## A - Introduction to Jupyter\n",
    "\n",
    "You can use the menu on the top to:\n",
    "- change the type of cell: Cell - Cell Type - Code (for python code); Cell - Cell Type - Markdown (for comments)\n",
    "- insert new cells: Insert - Insert Cell Above; Insert - Insert Cell Bellow\n",
    "- execute a cell: Cell - Run Cells; or Run button\n",
    "\n",
    "The cell below is an example of a Code cell. When executed, it will print the result of the sum."
   ]
  },
  {
   "cell_type": "code",
   "execution_count": 1,
   "id": "e69f079f",
   "metadata": {},
   "outputs": [
    {
     "name": "stdout",
     "output_type": "stream",
     "text": [
      "4\n"
     ]
    }
   ],
   "source": [
    "print (2+2)"
   ]
  },
  {
   "cell_type": "markdown",
   "id": "c74190d6",
   "metadata": {},
   "source": [
    "If you are using Colab: \n",
    "- change the type of cell: use the \"Code\" and \"Text\" options at the top of the page\n",
    "- insert new cells: Insert - Code cell; Insert - Text cell\n",
    "- execute a cell: press the play button beside the cell"
   ]
  },
  {
   "cell_type": "markdown",
   "id": "0fc75a2a",
   "metadata": {},
   "source": [
    "## B - Introduction to Python\n",
    "\n",
    "Further information can be found at:\n",
    "\n",
    "https://www.w3schools.com/python/\n",
    "\n",
    "### Print\n",
    "The function print can be used to print the result of arithmetic operations, as above, or to print text (note the \"\"  symbol in this case)."
   ]
  },
  {
   "cell_type": "code",
   "execution_count": 2,
   "id": "51ceb591",
   "metadata": {},
   "outputs": [
    {
     "name": "stdout",
     "output_type": "stream",
     "text": [
      "Hello world\n"
     ]
    }
   ],
   "source": [
    "print(\"Hello world\")"
   ]
  },
  {
   "cell_type": "markdown",
   "id": "a8d99974",
   "metadata": {},
   "source": [
    "### Comments\n",
    "\n",
    "Lines starting with # are not executed. They are treated as comments, which help to make your code more understandable.  \n",
    "In the exercises along the course, use comments to explain your code and ideas. This may help you to get extra points in the exercise: your logic will be taken into consideration, in case the code does not work as expected."
   ]
  },
  {
   "cell_type": "code",
   "execution_count": 3,
   "id": "899491bd",
   "metadata": {},
   "outputs": [],
   "source": [
    "# This is a comment"
   ]
  },
  {
   "cell_type": "markdown",
   "id": "0fc98a44",
   "metadata": {},
   "source": [
    "### Variables\n",
    "Variables store data.\n",
    "A variable is created when you assign a value to it.\n",
    "\n",
    "A variable can be used to store different data types: numbers (float, integer), text (string) or a sequence of numbers or text (list)."
   ]
  },
  {
   "cell_type": "code",
   "execution_count": 1,
   "id": "e69bf53a",
   "metadata": {
    "ExecuteTime": {
     "end_time": "2023-10-09T13:00:08.508483Z",
     "start_time": "2023-10-09T13:00:08.505410Z"
    }
   },
   "outputs": [
    {
     "name": "stdout",
     "output_type": "stream",
     "text": [
      "2.5\n",
      "Hello world\n",
      "[1, 2, 3, 4, 5]\n",
      "['hi', 'hello', 'hallo']\n"
     ]
    }
   ],
   "source": [
    "x = 2.5 # the variable x stores a number\n",
    "y = \"Hello world\" # the variable y stores a text or string\n",
    "z = [1,2,3,4,5] # the variable z stores a list of numbers\n",
    "w = [\"hi\", \"hello\", \"hallo\"] # the variable w stores a list of strings\n",
    "print(x)\n",
    "print(y)\n",
    "print(z)\n",
    "print(w)"
   ]
  },
  {
   "cell_type": "markdown",
   "id": "8fc11d06",
   "metadata": {},
   "source": [
    "### For and while loops\n",
    "\n",
    "The *for* loop is used for iterating over a sequence (for instance, a list).\n",
    "\n",
    "In the *while* loop, a set of statements is executed as long as a condition is true.\n",
    "\n",
    "Warning: make sure you have an **ending condition** for your *while* loop."
   ]
  },
  {
   "cell_type": "code",
   "execution_count": 2,
   "id": "e460416a",
   "metadata": {
    "ExecuteTime": {
     "end_time": "2023-10-09T13:00:16.642201Z",
     "start_time": "2023-10-09T13:00:16.640148Z"
    }
   },
   "outputs": [
    {
     "name": "stdout",
     "output_type": "stream",
     "text": [
      "hi\n",
      "hello\n",
      "hallo\n"
     ]
    }
   ],
   "source": [
    "# For loop to print all the elements of the list w, created in the previous cell\n",
    "for i in w:\n",
    "    print(i)"
   ]
  },
  {
   "cell_type": "code",
   "execution_count": 6,
   "id": "8c376fce",
   "metadata": {},
   "outputs": [
    {
     "name": "stdout",
     "output_type": "stream",
     "text": [
      "1\n",
      "2\n",
      "3\n",
      "4\n"
     ]
    }
   ],
   "source": [
    "# While loop to print numbers smaller than 5\n",
    "i=1\n",
    "while i < 5:\n",
    "    print(i)\n",
    "    i=i+1"
   ]
  },
  {
   "cell_type": "markdown",
   "id": "9ffcec5c",
   "metadata": {},
   "source": [
    "### If statement\n",
    "\n",
    "Logical conditions can be used in python:\n",
    "- equal: a == b\n",
    "- not equal: a != b\n",
    "- less than: a < b\n",
    "- greater than: a > b\n",
    "\n",
    "Such conditions can be used in *if* statements."
   ]
  },
  {
   "cell_type": "code",
   "execution_count": 4,
   "id": "17fb3e01",
   "metadata": {
    "ExecuteTime": {
     "end_time": "2023-10-09T13:03:11.409680Z",
     "start_time": "2023-10-09T13:03:11.407587Z"
    }
   },
   "outputs": [
    {
     "name": "stdout",
     "output_type": "stream",
     "text": [
      "a larger than b\n"
     ]
    }
   ],
   "source": [
    "a = 10\n",
    "b = 5\n",
    "\n",
    "if a > b:\n",
    "    print (\"a larger than b\")\n",
    "elif a == b:\n",
    "    print(\"a equals b\")\n",
    "else:\n",
    "    print(\"a smaller than b\")"
   ]
  },
  {
   "cell_type": "markdown",
   "id": "c1e78a34",
   "metadata": {},
   "source": [
    "### Numpy array\n",
    "\n",
    "Arrays are used to store multiple values in one single variable. A list is a type of array.\n",
    "\n",
    "*NumPy* is a commonly used Python library for scientific computing. Aside from the useful functions for mathematical operations, the array format it provides is very popular due to its efficiency.\n",
    "\n",
    "A Numpy array can be created from a list. "
   ]
  },
  {
   "cell_type": "code",
   "execution_count": 12,
   "id": "0255968d",
   "metadata": {},
   "outputs": [
    {
     "name": "stdout",
     "output_type": "stream",
     "text": [
      "numpy array:\n",
      "[1 2 3 4 5 6]\n"
     ]
    }
   ],
   "source": [
    "# Here, we import the library numpy \n",
    "import numpy as np\n",
    "\n",
    "# Then we create a Numpy array from a list\n",
    "list_num=[1,2,3,4,5,6]\n",
    "array = np.array(list_num)\n",
    "print(\"numpy array:\")\n",
    "print(array)"
   ]
  },
  {
   "cell_type": "code",
   "execution_count": 14,
   "id": "79d727a4",
   "metadata": {},
   "outputs": [
    {
     "name": "stdout",
     "output_type": "stream",
     "text": [
      "shape of array:\n",
      "(6,)\n",
      "new array:\n",
      "[[1 2 3]\n",
      " [4 5 6]]\n",
      "shape of new array:\n",
      "(2, 3)\n"
     ]
    }
   ],
   "source": [
    "# Here, the array is converted from an object with 1 dimension (1 array, 6 elements) to an \n",
    "# object with 2 dimensions (2 arrays, 3 elements)\n",
    "print(\"shape of array:\")\n",
    "print(array.shape)\n",
    "new_arr=array.reshape(2,3)\n",
    "print(\"new array:\")\n",
    "print(new_arr)\n",
    "print(\"shape of new array:\")\n",
    "print(new_arr.shape)"
   ]
  },
  {
   "cell_type": "markdown",
   "id": "5c730105",
   "metadata": {},
   "source": [
    "### Reading files\n",
    "\n",
    "*Pandas* is a Python library that can be used to load the contents of a file into Python. Pandas provides efficient and intuitive ways to work with labelled data in tabulated format (referred to as *DataFrames*), making it useful to write and read Excel, CSV, and many other types of files.\n",
    "\n",
    "In the example below, the contents of the file data-p38-small.csv, available in the link below, are saved in p38_df.\n",
    "\n",
    "https://github.com/anunesalves/machinelearning-wise23/tree/main/datasets/data_p38_small.csv\n"
   ]
  },
  {
   "cell_type": "code",
   "execution_count": 35,
   "id": "c303c8f5",
   "metadata": {},
   "outputs": [
    {
     "name": "stdout",
     "output_type": "stream",
     "text": [
      "data:\n",
      "        MW     logP  HBA  HBD\n",
      "0  306.797  4.01500    3    2\n",
      "1  527.669  5.98642    6    2\n",
      "2  272.352  2.96882    3    2\n",
      "3  513.642  5.67800    6    2\n",
      "4  499.615  5.50390    6    2\n"
     ]
    }
   ],
   "source": [
    "# import the library pandas\n",
    "import pandas as pd\n",
    "\n",
    "p38_file = \"https://raw.githubusercontent.com/anunesalves/machinelearning-wise23/main/datasets/data-p38-small.csv\"\n",
    "# here, the symbol ; is used to separate the columns\n",
    "p38_df = pd.read_csv(p38_file, sep=';')\n",
    "print(\"data:\")\n",
    "print(p38_df)"
   ]
  },
  {
   "cell_type": "code",
   "execution_count": 36,
   "id": "bbc441f5",
   "metadata": {},
   "outputs": [
    {
     "name": "stdout",
     "output_type": "stream",
     "text": [
      "MW\n",
      "0    306.797\n",
      "1    527.669\n",
      "2    272.352\n",
      "3    513.642\n",
      "4    499.615\n",
      "Name: MW, dtype: float64\n"
     ]
    }
   ],
   "source": [
    "# save content of column MW only\n",
    "MW = p38_df['MW']\n",
    "print(\"MW\")\n",
    "print(MW)"
   ]
  },
  {
   "cell_type": "markdown",
   "id": "9595b99f",
   "metadata": {},
   "source": [
    "### Creating functions\n",
    "A function is a block of code which only runs when it is called.\n",
    "\n",
    "You can pass data into a function, and it can return data as a result.\n",
    "\n",
    "Functions are useful to separate a set of instructions that you want to use repeatedly in your code.\n"
   ]
  },
  {
   "cell_type": "code",
   "execution_count": 16,
   "id": "12326c97",
   "metadata": {},
   "outputs": [
    {
     "name": "stdout",
     "output_type": "stream",
     "text": [
      "4\n",
      "16\n"
     ]
    }
   ],
   "source": [
    "# The function below ('square') receives a number ('value') and returns the squared value of it\n",
    "def square(value):\n",
    "  return(value*value)\n",
    "\n",
    "# The function is called to calculate the squared value of 2 and 4\n",
    "print(square(2))\n",
    "print(square(4))"
   ]
  },
  {
   "cell_type": "code",
   "execution_count": 20,
   "id": "12a27eca",
   "metadata": {},
   "outputs": [
    {
     "name": "stdout",
     "output_type": "stream",
     "text": [
      "x values:\n",
      "[-5, -4, -3, -2, -1, 0, 1, 2, 3, 4, 5]\n",
      "potential energies:\n",
      "[125.0, 80.0, 45.0, 20.0, 5.0, 0.0, 5.0, 20.0, 45.0, 80.0, 125.0]\n"
     ]
    }
   ],
   "source": [
    "# The function below ('energy') calculates the potential energy (U) of an harmonic oscillator for a \n",
    "# given displacement ('x')\n",
    "# U = 1/2 * kx^2 \n",
    "# k: force constant\n",
    "def energy(x):\n",
    "    k=10\n",
    "    return(0.5*k*x*x)\n",
    "\n",
    "# A list with numbers varying from -5 to 5, with an interval of 1, is created\n",
    "# note that the upper bound of the range will not be included\n",
    "x=list(range(-5,6,1))\n",
    "print(\"x values:\")\n",
    "print(x)\n",
    "# The function is called to calculate the potential energy for the displacement values in the list x\n",
    "energy_values=[]\n",
    "for value in x:\n",
    "    energy_values.append(energy(value))\n",
    "print(\"potential energies:\")\n",
    "print(energy_values)"
   ]
  },
  {
   "cell_type": "markdown",
   "id": "9354aa3e",
   "metadata": {},
   "source": [
    "### Graphs\n",
    "Graphs can be plotted in Python using the library Matplotlib and the sublibrary Pyplot."
   ]
  },
  {
   "cell_type": "code",
   "execution_count": 22,
   "id": "f3e57124",
   "metadata": {},
   "outputs": [
    {
     "data": {
      "image/png": "[encoded data removed]",
      "text/plain": [
       "<Figure size 640x480 with 1 Axes>"
      ]
     },
     "metadata": {},
     "output_type": "display_data"
    }
   ],
   "source": [
    "# Here, we import the sublibrary Pyplot and use it to plot the graph of displacement \n",
    "# (list x) versus potential energy (list energy_values) created in the previous cell.\n",
    "import matplotlib.pyplot as plt \n",
    "\n",
    "plt.plot(x, energy_values, marker = 'o')\n",
    "plt.xlabel(\"displacement\")\n",
    "plt.ylabel(\"potential energy\")\n",
    "plt.show()\n"
   ]
  },
  {
   "cell_type": "markdown",
   "id": "39a40697",
   "metadata": {},
   "source": [
    "## C - Exercise\n",
    "1- The file data-p38.csv:\n",
    "\n",
    "https://github.com/anunesalves/machinelearning-wise23/tree/main/datasets/data-p38.csv\n",
    "\n",
    "contains information for 33 small molecules which are inhibitors of the protein p38 MAP kinase. Each line corresponds to one molecule.\n",
    "\n",
    "The file contains the following information:\n",
    "\n",
    "- column 1: molecular weight (MW, in g/mol)\n",
    "- column 2: log of octanol-water partition coefficient (logP)\n",
    "- column 3: number of hydrogen-bond acceptors (HBA)\n",
    "- column 4: number of hydrogen-bond donors (HBD)\n",
    "\n",
    "According to the Lipinski's rule of five, a small molecule can be classified as a drug-like molecule if it has:\n",
    "\n",
    "- molecular weight <= 500 g/mol\n",
    "- log P < 5\n",
    "- 10 or fewer hydrogen-bond acceptors\n",
    "- 5 or fewer hydrogen-bond donors \n",
    "\n",
    "Read the contents of the file data-p38.csv and count the number of drug-like molecules present in the file.\n",
    "\n",
    "(30 points)"
   ]
  },
  {
   "cell_type": "code",
   "execution_count": null,
   "id": "d408269d",
   "metadata": {},
   "outputs": [],
   "source": []
  },
  {
   "cell_type": "markdown",
   "id": "a106cb2e",
   "metadata": {},
   "source": [
    "2- Plot the graph of molecular weight vs log P values for the molecules in the file data-p38.csv.\n",
    "\n",
    "(5 points)"
   ]
  },
  {
   "cell_type": "code",
   "execution_count": null,
   "id": "41041e71",
   "metadata": {},
   "outputs": [],
   "source": []
  },
  {
   "cell_type": "markdown",
   "id": "25b84192",
   "metadata": {},
   "source": [
    "3- The potential energy for a bond between two atoms can be represented by a Morse potential ($U$): \n",
    "\n",
    "$$U=D(1-e^{-b(r-r_0)})^2$$\n",
    "\n",
    "where $r$ is the distance between the atoms, $r_0$ is the equilibrium bond distance, $D$ is the well depth (defined relative to the dissociated atoms), and $b$ controls the 'width' of the potential (the smaller $b$ is, the larger the well).\n",
    "\n",
    "Create a function that returns the value of the potential energy ($U$) when the values for $r$ and $b$ are provided.\n",
    "\n",
    "You can use the following values for the other variables: $D=100$, $r_0=0$.\n",
    "\n",
    "Using your function, create a numpy array that contains different values of $r$ (from -20 to 20) in the first row, the associated potential energies for $b=0.15$ in the second row, and the associated potential energies for $b=0.2$ in the third row. \n",
    "\n",
    "(30 points)"
   ]
  },
  {
   "cell_type": "code",
   "execution_count": null,
   "id": "5439732e",
   "metadata": {},
   "outputs": [],
   "source": []
  },
  {
   "cell_type": "markdown",
   "id": "e230e96b",
   "metadata": {},
   "source": [
    "4- Plot the graphs of $r$ vs potential energy for the different values of $b$ using the numpy array you created in the previous exercise. Represent the graphs together as lines in one plot.\n",
    "\n",
    "(5 points)"
   ]
  },
  {
   "cell_type": "code",
   "execution_count": null,
   "id": "14dfb40e",
   "metadata": {},
   "outputs": [],
   "source": []
  },
  {
   "cell_type": "markdown",
   "id": "dafad3d9",
   "metadata": {},
   "source": [
    "5- What is the difference between supervised and unsupervised learning? Give one example of a problem in chemistry that can be solved by a supervised method, and one example of a problem in chemistry that can be solved by an unsupervised method.\n",
    "\n",
    "(15 points)"
   ]
  },
  {
   "cell_type": "markdown",
   "id": "7422f8fe",
   "metadata": {},
   "source": []
  },
  {
   "cell_type": "markdown",
   "id": "1fcfdb8c",
   "metadata": {},
   "source": [
    "6- What is the difference between classification and regression? Give one example of a problem in chemistry that can be solved by regression, and one example of a problem in chemistry that can be solved by classification.\n",
    "\n",
    "(15 points)"
   ]
  },
  {
   "cell_type": "markdown",
   "id": "7b7ec070",
   "metadata": {},
   "source": []
  }
 ],
 "metadata": {
  "kernelspec": {
   "display_name": "Python 3 (ipykernel)",
   "language": "python",
   "name": "python3"
  },
  "language_info": {
   "codemirror_mode": {
    "name": "ipython",
    "version": 3
   },
   "file_extension": ".py",
   "mimetype": "text/x-python",
   "name": "python",
   "nbconvert_exporter": "python",
   "pygments_lexer": "ipython3",
   "version": "3.7.12"
  },
  "toc": {
   "base_numbering": 1,
   "nav_menu": {},
   "number_sections": true,
   "sideBar": true,
   "skip_h1_title": false,
   "title_cell": "Table of Contents",
   "title_sidebar": "Contents",
   "toc_cell": false,
   "toc_position": {},
   "toc_section_display": true,
   "toc_window_display": false
  },
  "varInspector": {
   "cols": {
    "lenName": 16,
    "lenType": 16,
    "lenVar": 40
   },
   "kernels_config": {
    "python": {
     "delete_cmd_postfix": "",
     "delete_cmd_prefix": "del ",
     "library": "var_list.py",
     "varRefreshCmd": "print(var_dic_list())"
    },
    "r": {
     "delete_cmd_postfix": ") ",
     "delete_cmd_prefix": "rm(",
     "library": "var_list.r",
     "varRefreshCmd": "cat(var_dic_list()) "
    }
   },
   "types_to_exclude": [
    "module",
    "function",
    "builtin_function_or_method",
    "instance",
    "_Feature"
   ],
   "window_display": false
  }
 },
 "nbformat": 4,
 "nbformat_minor": 5
}
